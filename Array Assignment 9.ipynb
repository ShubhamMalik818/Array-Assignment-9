{
 "cells": [
  {
   "cell_type": "code",
   "execution_count": null,
   "id": "4100fe2e-8149-49b3-b8b2-ce581c6d0472",
   "metadata": {},
   "outputs": [],
   "source": [
    "Question 1\n",
    "\n",
    "Given an integer `n`, return `true` if it is a power of two. Otherwise, return `false`.\n",
    "\n",
    "An integer `n` is a power of two, if there exists an integer `x` such that `n == 2x`.\n",
    "\n",
    "Example 1:\n",
    "Input: n = 1 \n",
    "\n",
    "Output: true\n",
    "\n",
    "Example 2:\n",
    "Input: n = 16 \n",
    "\n",
    "Output: true\n",
    "\n",
    "Example 3:\n",
    "Input: n = 3 \n",
    "\n",
    "Output: false"
   ]
  },
  {
   "cell_type": "code",
   "execution_count": 1,
   "id": "c191a47b-2978-4513-8450-44cce4782716",
   "metadata": {},
   "outputs": [],
   "source": [
    "def isPowerOfTwo(n):\n",
    "    if n <= 0:\n",
    "        return False\n",
    "    return (n & (n - 1)) == 0"
   ]
  },
  {
   "cell_type": "code",
   "execution_count": 2,
   "id": "871381e4-fbdf-4b47-8b74-57214741b992",
   "metadata": {},
   "outputs": [
    {
     "name": "stdout",
     "output_type": "stream",
     "text": [
      "True\n",
      "True\n",
      "False\n"
     ]
    }
   ],
   "source": [
    "print(isPowerOfTwo(1))  # Output: True\n",
    "print(isPowerOfTwo(16))  # Output: True\n",
    "print(isPowerOfTwo(3))  # Output: False"
   ]
  },
  {
   "cell_type": "code",
   "execution_count": null,
   "id": "1fdc6c02-9b82-4126-82c3-4db6d30b73bc",
   "metadata": {},
   "outputs": [],
   "source": [
    "Question 2\n",
    "\n",
    "Given a number n, find the sum of the first natural numbers.\n",
    "\n",
    "Example 1:\n",
    "\n",
    "Input: n = 3 \n",
    "\n",
    "Output: 6\n",
    "\n",
    "Example 2:\n",
    "\n",
    "Input  : 5 \n",
    "\n",
    "Output : 15"
   ]
  },
  {
   "cell_type": "code",
   "execution_count": 8,
   "id": "a9860e71-efc5-432a-9447-98df9a3f5793",
   "metadata": {},
   "outputs": [
    {
     "name": "stdout",
     "output_type": "stream",
     "text": [
      "6\n",
      "15\n"
     ]
    }
   ],
   "source": [
    "def sumOfFirstNNumbers(n):\n",
    "    return (n * (n + 1)) // 2\n",
    "\n",
    "# Example usage\n",
    "n = 3\n",
    "print(sumOfFirstNNumbers(n))  # Output: 6\n",
    "\n",
    "n = 5\n",
    "print(sumOfFirstNNumbers(n))  # Output: 15"
   ]
  },
  {
   "cell_type": "code",
   "execution_count": null,
   "id": "750ae219-049c-4a95-8349-b031fcf8272b",
   "metadata": {},
   "outputs": [],
   "source": [
    "Question 3\n",
    "\n",
    "Given a positive integer, N. Find the factorial of N. \n",
    "\n",
    "Example 1:\n",
    "\n",
    "Input: N = 5 \n",
    "\n",
    "Output: 120\n",
    "\n",
    "Example 2:\n",
    "\n",
    "Input: N = 4\n",
    "\n",
    "Output: 24"
   ]
  },
  {
   "cell_type": "code",
   "execution_count": 9,
   "id": "de33bfd0-592d-48f3-ba38-8b9da9e3d0b3",
   "metadata": {},
   "outputs": [],
   "source": [
    "def factorial(N):\n",
    "    result = 1\n",
    "    for i in range(1, N + 1):\n",
    "        result *= i\n",
    "    return result"
   ]
  },
  {
   "cell_type": "code",
   "execution_count": 10,
   "id": "bcdcc002-07ef-43b5-a3aa-06edc3f95ce8",
   "metadata": {},
   "outputs": [
    {
     "name": "stdout",
     "output_type": "stream",
     "text": [
      "120\n",
      "24\n"
     ]
    }
   ],
   "source": [
    "print(factorial(5))  # Output: 120\n",
    "print(factorial(4))  # Output: 24"
   ]
  },
  {
   "cell_type": "code",
   "execution_count": null,
   "id": "5213f937-4ffa-4240-af72-3cacb05d57c4",
   "metadata": {},
   "outputs": [],
   "source": [
    "Question 4\n",
    "\n",
    "Given a number N and a power P, the task is to find the exponent of this number raised to the given power, i.e. N^P.\n",
    "\n",
    "Example 1 :\n",
    "\n",
    "Input: N = 5, P = 2\n",
    "\n",
    "Output: 25\n",
    "\n",
    "Example 2 :\n",
    "Input: N = 2, P = 5\n",
    "\n",
    "Output: 32"
   ]
  },
  {
   "cell_type": "code",
   "execution_count": 11,
   "id": "4e560336-0a4d-485d-80d9-f988d681649f",
   "metadata": {},
   "outputs": [],
   "source": [
    "def calculateExponent(N, P):\n",
    "    return N ** P"
   ]
  },
  {
   "cell_type": "code",
   "execution_count": 12,
   "id": "684397c0-4b41-4ed6-9355-64882ff61149",
   "metadata": {},
   "outputs": [
    {
     "name": "stdout",
     "output_type": "stream",
     "text": [
      "25\n",
      "32\n"
     ]
    }
   ],
   "source": [
    "print(calculateExponent(5, 2))  # Output: 25\n",
    "print(calculateExponent(2, 5))  # Output: 32"
   ]
  },
  {
   "cell_type": "code",
   "execution_count": null,
   "id": "6755d22b-bf9c-431b-bbf4-59a5b6350280",
   "metadata": {},
   "outputs": [],
   "source": [
    "Question 5\n",
    "\n",
    "Given an array of integers **arr**, the task is to find maximum element of that array using recursion.\n",
    "\n",
    "Example 1:\n",
    "\n",
    "Input: arr = {1, 4, 3, -5, -4, 8, 6};\n",
    "Output: 8\n",
    "\n",
    "Example 2:\n",
    "\n",
    "Input: arr = {1, 4, 45, 6, 10, -8};\n",
    "Output: 45"
   ]
  },
  {
   "cell_type": "code",
   "execution_count": 13,
   "id": "332dbe72-a5bf-4d8d-b61d-dd55c9a6b0b1",
   "metadata": {},
   "outputs": [],
   "source": [
    "def findMax(arr, n):\n",
    "    # Base case: If there is only one element in the array, return that element\n",
    "    if n == 1:\n",
    "        return arr[0]\n",
    "    \n",
    "    # Recursive case: Divide the problem into subproblems\n",
    "    max_element = findMax(arr, n - 1)\n",
    "    \n",
    "    # Compare the maximum element of the subarray with the last element\n",
    "    if arr[n - 1] > max_element:\n",
    "        return arr[n - 1]\n",
    "    else:\n",
    "        return max_element"
   ]
  },
  {
   "cell_type": "code",
   "execution_count": 14,
   "id": "eac1e5f6-db06-41b1-8c68-37ad09062c09",
   "metadata": {},
   "outputs": [
    {
     "name": "stdout",
     "output_type": "stream",
     "text": [
      "8\n",
      "45\n"
     ]
    }
   ],
   "source": [
    "arr1 = [1, 4, 3, -5, -4, 8, 6]\n",
    "n1 = len(arr1)\n",
    "print(findMax(arr1, n1))  # Output: 8\n",
    "\n",
    "arr2 = [1, 4, 45, 6, 10, -8]\n",
    "n2 = len(arr2)\n",
    "print(findMax(arr2, n2))  # Output: 45"
   ]
  },
  {
   "cell_type": "code",
   "execution_count": null,
   "id": "6306ea43-ec97-4ea9-9ecf-be9cea07632e",
   "metadata": {},
   "outputs": [],
   "source": [
    "Question 6\n",
    "\n",
    "Given first term (a), common difference (d) and a integer N of the Arithmetic Progression series, the task is to find Nth term of the series.\n",
    "\n",
    "Example 1:\n",
    "\n",
    "Input : a = 2 d = 1 N = 5\n",
    "Output : 6\n",
    "The 5th term of the series is : 6\n",
    "\n",
    "Example 2:\n",
    "\n",
    "Input : a = 5 d = 2 N = 10\n",
    "Output : 23\n",
    "The 10th term of the series is : 23"
   ]
  },
  {
   "cell_type": "code",
   "execution_count": 15,
   "id": "ea31be91-06f9-42e4-b05d-b57ba4b95bf9",
   "metadata": {},
   "outputs": [],
   "source": [
    "def findNthTerm(a, d, N):\n",
    "    nthTerm = a + (N - 1) * d\n",
    "    return nthTerm"
   ]
  },
  {
   "cell_type": "code",
   "execution_count": 16,
   "id": "606de4a4-139b-4c2b-8004-ef33941ba8f0",
   "metadata": {},
   "outputs": [
    {
     "name": "stdout",
     "output_type": "stream",
     "text": [
      "6\n",
      "23\n"
     ]
    }
   ],
   "source": [
    "print(findNthTerm(2, 1, 5))  # Output: 6\n",
    "print(findNthTerm(5, 2, 10))  # Output: 23"
   ]
  },
  {
   "cell_type": "code",
   "execution_count": null,
   "id": "c1186e81-fc43-4998-9dbf-3811d4a14fba",
   "metadata": {},
   "outputs": [],
   "source": [
    "Question 7\n",
    "\n",
    "Given a string S, the task is to write a program to print all permutations of a given string.\n",
    "\n",
    "Example 1:\n",
    "\n",
    "Input:\n",
    "\n",
    "S = “ABC”\n",
    "\n",
    "Output:\n",
    "\n",
    "“ABC”, “ACB”, “BAC”, “BCA”, “CBA”, “CAB”\n",
    "\n",
    "Example 2:\n",
    "\n",
    "Input:\n",
    "\n",
    "S = “XY”\n",
    "\n",
    "Output:\n",
    "\n",
    "“XY”, “YX”"
   ]
  },
  {
   "cell_type": "code",
   "execution_count": null,
   "id": "d1c057aa-f7ab-4191-8442-ab35347cdddf",
   "metadata": {},
   "outputs": [],
   "source": []
  },
  {
   "cell_type": "code",
   "execution_count": null,
   "id": "67c71250-1536-43ed-8b46-3376be3c44e6",
   "metadata": {},
   "outputs": [],
   "source": []
  },
  {
   "cell_type": "code",
   "execution_count": null,
   "id": "43af4558-cf4b-492a-a61c-5d8a5326823d",
   "metadata": {},
   "outputs": [],
   "source": []
  },
  {
   "cell_type": "code",
   "execution_count": null,
   "id": "df4f0f16-cc07-47e9-9e47-c30738dd3a2e",
   "metadata": {},
   "outputs": [],
   "source": []
  },
  {
   "cell_type": "code",
   "execution_count": null,
   "id": "9c11f977-6d39-4796-a304-2cff8c15f068",
   "metadata": {},
   "outputs": [],
   "source": []
  },
  {
   "cell_type": "code",
   "execution_count": null,
   "id": "a09b0bd8-b87d-439a-8d13-174d8f43892c",
   "metadata": {},
   "outputs": [],
   "source": []
  }
 ],
 "metadata": {
  "kernelspec": {
   "display_name": "Python 3 (ipykernel)",
   "language": "python",
   "name": "python3"
  },
  "language_info": {
   "codemirror_mode": {
    "name": "ipython",
    "version": 3
   },
   "file_extension": ".py",
   "mimetype": "text/x-python",
   "name": "python",
   "nbconvert_exporter": "python",
   "pygments_lexer": "ipython3",
   "version": "3.10.8"
  }
 },
 "nbformat": 4,
 "nbformat_minor": 5
}
